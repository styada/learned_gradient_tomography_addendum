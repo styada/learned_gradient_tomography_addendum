{
 "cells": [
  {
   "cell_type": "code",
   "execution_count": 4,
   "metadata": {},
   "outputs": [
    {
     "ename": "AttributeError",
     "evalue": "type object 'set' has no attribute '__all__'",
     "output_type": "error",
     "traceback": [
      "\u001b[0;31m---------------------------------------------------------------------------\u001b[0m",
      "\u001b[0;31mAttributeError\u001b[0m                            Traceback (most recent call last)",
      "Cell \u001b[0;32mIn[4], line 2\u001b[0m\n\u001b[1;32m      1\u001b[0m \u001b[38;5;28;01mimport\u001b[39;00m \u001b[38;5;21;01mnumpy\u001b[39;00m \u001b[38;5;28;01mas\u001b[39;00m \u001b[38;5;21;01mnp\u001b[39;00m\n\u001b[0;32m----> 2\u001b[0m \u001b[38;5;28;01mimport\u001b[39;00m \u001b[38;5;21;01modl\u001b[39;00m \u001b[38;5;66;03m# the Operator Discretization Library\u001b[39;00m\n",
      "File \u001b[0;32m~/miniconda3/envs/illpropinverse/lib/python3.11/site-packages/odl/__init__.py:48\u001b[0m\n\u001b[1;32m     45\u001b[0m \u001b[38;5;66;03m# Propagate names defined in` __all__` of all \"core\" subpackages into\u001b[39;00m\n\u001b[1;32m     46\u001b[0m \u001b[38;5;66;03m# the top-level namespace\u001b[39;00m\n\u001b[1;32m     47\u001b[0m \u001b[38;5;28;01mfrom\u001b[39;00m \u001b[38;5;21;01m.\u001b[39;00m\u001b[38;5;21;01mset\u001b[39;00m \u001b[38;5;28;01mimport\u001b[39;00m \u001b[38;5;241m*\u001b[39m\n\u001b[0;32m---> 48\u001b[0m __all__ \u001b[38;5;241m+\u001b[39m\u001b[38;5;241m=\u001b[39m \u001b[38;5;28;43mset\u001b[39;49m\u001b[38;5;241;43m.\u001b[39;49m\u001b[43m__all__\u001b[49m\n\u001b[1;32m     50\u001b[0m \u001b[38;5;28;01mfrom\u001b[39;00m \u001b[38;5;21;01m.\u001b[39;00m\u001b[38;5;21;01mspace\u001b[39;00m \u001b[38;5;28;01mimport\u001b[39;00m \u001b[38;5;241m*\u001b[39m\n\u001b[1;32m     51\u001b[0m __all__ \u001b[38;5;241m+\u001b[39m\u001b[38;5;241m=\u001b[39m space\u001b[38;5;241m.\u001b[39m__all__\n",
      "\u001b[0;31mAttributeError\u001b[0m: type object 'set' has no attribute '__all__'"
     ]
    }
   ],
   "source": [
    "import numpy as np\n",
    "import odl # the Operator Discretization Library"
   ]
  },
  {
   "cell_type": "code",
   "execution_count": 5,
   "metadata": {},
   "outputs": [
    {
     "ename": "SyntaxError",
     "evalue": "invalid syntax (2107953295.py, line 46)",
     "output_type": "error",
     "traceback": [
      "\u001b[0;36m  Cell \u001b[0;32mIn[5], line 46\u001b[0;36m\u001b[0m\n\u001b[0;31m    elif regularization == \"Entropy\":\u001b[0m\n\u001b[0m    ^\u001b[0m\n\u001b[0;31mSyntaxError\u001b[0m\u001b[0;31m:\u001b[0m invalid syntax\n"
     ]
    }
   ],
   "source": [
    "\n",
    "# Choice between Filtered Backprojection (FBP), Tikhonov, Total Variation(TV) and Entropy\n",
    "regularization = \"Entropy\"\n",
    "# The regularization parameter\n",
    "a=1\n",
    "# The reconstuction space\n",
    "space = odl.uniform_discr(min_pt=[-20, -20], max_pt=[20, 20],\n",
    "    shape=[512, 512])\n",
    "# Number of projection angles and their distribution\n",
    "angle_partition = odl.uniform_partition(0, np.pi, 180)\n",
    "# Detector partition\n",
    "detector_partition = odl.uniform_partition(-30, 30, 256)\n",
    "# The detector geometry\n",
    "geometry = odl.tomo.Parallel2dGeometry(angle_partition,\n",
    "    detector_partition)\n",
    "# The ray transform\n",
    "ray_trafo = odl.tomo.RayTransform(space, geometry)\n",
    "# The phantom\n",
    "phantom = odl.phantom.shepp_logan(space, modified=True)\n",
    "# Generate data\n",
    "data = ray_trafo(phantom)\n",
    "# Adding white Gaussian noise, approximately 5% signal-to-noise ratio\n",
    "raw_noise = odl.phantom.white_noise(ray_trafo.range)\n",
    "data += raw_noise/raw_noise.norm()*data.norm()*0.05\n"
   ]
  },
  {
   "cell_type": "code",
   "execution_count": null,
   "metadata": {},
   "outputs": [],
   "source": [
    "\n",
    "if regularization == \"FBP\":\n",
    "    # There are different filters in the fbp_op function, but we used 18 \n",
    "    # the default one\n",
    "    fbp_recon = odl.tomo.fbp_op(ray_trafo)(data)\n",
    "    fbp_recon.show(\"FBP\")\n",
    "else:\n",
    "    A = ray_trafo\n",
    "    f = odl.solvers.IndicatorBox(space, 0)\n",
    "    # the data-matching term\n",
    "    g1 = odl.solvers.L2NormSquared(A.range).translated(data)\n",
    "    \n",
    "    if regularization == \"Tikhonov\":\n",
    "        B = odl.IdentityOperator(space)\n",
    "        # 2-norm squared of f\n",
    "        g2 = a * odl.solvers.L2NormSquared(space)\n",
    "        sigma = [0.2, 0.5]\n",
    "        \n",
    "    elif regularization == \"TV\":\n",
    "        B = odl.Gradient(space)\n",
    "        # 1-norm of the spatial gradient of f\n",
    "        g2 = a * odl.solvers.L1Norm(B.range)\n",
    "        sigma = [0.1, 0.02]\n",
    "        \n",
    "    elif regularization == \"Entropy\":\n",
    "        B = odl.IdentityOperator(space)\n",
    "        # the Kullback-Leibler functional\n",
    "        g2 = a*odl.solvers.KullbackLeibler(space)\n",
    "        sigma = [0.2, 0.5]\n",
    "        \n",
    "    else:\n",
    "        raise RuntimeError(\"Unknown regularization\")\n",
    "    \n",
    "    lin_ops = [A, B]\n",
    "    g_funcs = [g1, g2]\n",
    "    x = A.domain.zero()\n",
    "    call = (odl.solvers.CallbackPrintIteration()&\n",
    "    odl.solvers.CallbackShow(title=regularization + \", alpha = \"\n",
    "    +     str(a),display_step=100))\n",
    "    odl.solvers.douglas_rachford_pd(x,f,g_funcs, lin_ops,\n",
    "                            tau=0.1, sigma=sigma, niter=1000,\n",
    "                                callback=call)"
   ]
  }
 ],
 "metadata": {
  "kernelspec": {
   "display_name": "illpropinverse",
   "language": "python",
   "name": "python3"
  },
  "language_info": {
   "codemirror_mode": {
    "name": "ipython",
    "version": 3
   },
   "file_extension": ".py",
   "mimetype": "text/x-python",
   "name": "python",
   "nbconvert_exporter": "python",
   "pygments_lexer": "ipython3",
   "version": "3.11.0"
  }
 },
 "nbformat": 4,
 "nbformat_minor": 2
}
