{
 "cells": [
  {
   "cell_type": "code",
   "execution_count": 4,
   "metadata": {},
   "outputs": [],
   "source": [
    "\"\"\"Reference TV reconstruction for ellipse data.\"\"\"\n",
    "\n",
    "import numpy as np\n",
    "import odl\n",
    "from odl.contrib import fom\n"
   ]
  },
  {
   "cell_type": "code",
   "execution_count": 5,
   "metadata": {},
   "outputs": [],
   "source": [
    "\n",
    "\n",
    "# Create ODL data structures\n",
    "size = 128\n",
    "space = odl.uniform_discr([-64, -64], [64, 64], [size, size],\n",
    "                          dtype='float32')\n",
    "\n",
    "# Creat parallel beam geometry\n",
    "geometry = odl.tomo.parallel_beam_geometry(space, num_angles=30)\n",
    "\n",
    "# Create ray transform operator\n",
    "operator = odl.tomo.RayTransform(space, geometry)\n",
    "\n",
    "# Create pseudoinverse\n",
    "pseudoinverse = odl.tomo.fbp_op(operator)\n",
    "\n"
   ]
  },
  {
   "cell_type": "code",
   "execution_count": 6,
   "metadata": {},
   "outputs": [],
   "source": [
    "\n",
    "# --- Generate artificial data --- #\n",
    "\n",
    "\n",
    "# Create phantom\n",
    "phantom = odl.phantom.shepp_logan(space, modified=True)\n",
    "\n",
    "# Create sinogram of forward projected phantom with noise\n",
    "data = operator(phantom)\n",
    "data += odl.phantom.white_noise(operator.range) * np.mean(np.abs(data)) * 0.05\n",
    "\n"
   ]
  },
  {
   "cell_type": "code",
   "execution_count": 16,
   "metadata": {},
   "outputs": [
    {
     "name": "stdout",
     "output_type": "stream",
     "text": [
      "Operator output type: <class 'odl.discr.lp_discr.DiscreteLpElement'>\n",
      "Gradient output type: <class 'odl.space.pspace.ProductSpaceElement'>\n",
      "Operator output : [[ 0.,  0.,  0., ...,  0.,  0.,  0.],\n",
      " [ 0.,  0.,  0., ...,  0.,  0.,  0.],\n",
      " [ 0.,  0.,  0., ...,  0.,  0.,  0.],\n",
      " ..., \n",
      " [ 0.,  0.,  0., ...,  0.,  0.,  0.],\n",
      " [ 0.,  0.,  0., ...,  0.,  0.,  0.],\n",
      " [ 0.,  0.,  0., ...,  0.,  0.,  0.]]\n",
      "Gradient output : ProductSpace(uniform_discr([-64., -64.], [ 64.,  64.], (128, 128), dtype='float32'), 2).element([\n",
      "    \n",
      "        [[ 0.,  0.,  0., ...,  0.,  0.,  0.],\n",
      "         [ 0.,  0.,  0., ...,  0.,  0.,  0.],\n",
      "         [ 0.,  0.,  0., ...,  0.,  0.,  0.],\n",
      "         ..., \n",
      "         [ 0.,  0.,  0., ...,  0.,  0.,  0.],\n",
      "         [ 0.,  0.,  0., ...,  0.,  0.,  0.],\n",
      "         [-1., -1., -1., ..., -1., -1., -1.]],\n",
      "    \n",
      "        [[ 0.,  0.,  0., ...,  0.,  0., -1.],\n",
      "         [ 0.,  0.,  0., ...,  0.,  0., -1.],\n",
      "         [ 0.,  0.,  0., ...,  0.,  0., -1.],\n",
      "         ..., \n",
      "         [ 0.,  0.,  0., ...,  0.,  0., -1.],\n",
      "         [ 0.,  0.,  0., ...,  0.,  0., -1.],\n",
      "         [ 0.,  0.,  0., ...,  0.,  0., -1.]]\n",
      "])\n"
     ]
    }
   ],
   "source": [
    "\n",
    "# --- Set up the inverse problem --- #\n",
    "\n",
    "\n",
    "# Initialize gradient operator\n",
    "gradient = odl.Gradient(space)\n",
    "\n",
    "# Take a sample element from the domain of operator and gradient\n",
    "# Adjust sample input to match the domain's shape\n",
    "sample = operator.domain.element(np.ones(operator.domain.shape))\n",
    "\n",
    "\n",
    "# Apply operator and gradient to check output types\n",
    "operator_output = operator(sample)\n",
    "gradient_output = gradient(sample)\n",
    "\n",
    "print(\"Operator output type:\", type(operator_output))\n",
    "print(\"Gradient output type:\", type(gradient_output))\n",
    "print(\"Operator output :\", (operator_output))\n",
    "print(\"Gradient output :\", (gradient_output))\n"
   ]
  },
  {
   "cell_type": "code",
   "execution_count": 17,
   "metadata": {},
   "outputs": [
    {
     "ename": "ValueError",
     "evalue": "object dtype is not supported by sparse matrices",
     "output_type": "error",
     "traceback": [
      "\u001b[0;31m---------------------------------------------------------------------------\u001b[0m",
      "\u001b[0;31mValueError\u001b[0m                                Traceback (most recent call last)",
      "Cell \u001b[0;32mIn[17], line 8\u001b[0m\n\u001b[1;32m      5\u001b[0m gradient \u001b[38;5;241m=\u001b[39m odl\u001b[38;5;241m.\u001b[39mGradient(space)\n\u001b[1;32m      7\u001b[0m \u001b[38;5;66;03m# Column vector of two operators\u001b[39;00m\n\u001b[0;32m----> 8\u001b[0m op \u001b[38;5;241m=\u001b[39m \u001b[43modl\u001b[49m\u001b[38;5;241;43m.\u001b[39;49m\u001b[43mBroadcastOperator\u001b[49m\u001b[43m(\u001b[49m\u001b[43moperator\u001b[49m\u001b[43m,\u001b[49m\u001b[43m \u001b[49m\u001b[43mgradient\u001b[49m\u001b[43m)\u001b[49m\n\u001b[1;32m     10\u001b[0m \u001b[38;5;66;03m# Do not use the g functional, set it to zero.\u001b[39;00m\n\u001b[1;32m     11\u001b[0m f \u001b[38;5;241m=\u001b[39m odl\u001b[38;5;241m.\u001b[39msolvers\u001b[38;5;241m.\u001b[39mZeroFunctional(op\u001b[38;5;241m.\u001b[39mdomain)\n",
      "File \u001b[0;32m~/miniconda3/envs/illpropinverse/lib/python3.11/site-packages/odl/operator/pspace_ops.py:777\u001b[0m, in \u001b[0;36mBroadcastOperator.__init__\u001b[0;34m(self, *operators)\u001b[0m\n\u001b[1;32m    774\u001b[0m     operators \u001b[38;5;241m=\u001b[39m (operators[\u001b[38;5;241m0\u001b[39m],) \u001b[38;5;241m*\u001b[39m operators[\u001b[38;5;241m1\u001b[39m]\n\u001b[1;32m    776\u001b[0m \u001b[38;5;28mself\u001b[39m\u001b[38;5;241m.\u001b[39m__operators \u001b[38;5;241m=\u001b[39m operators\n\u001b[0;32m--> 777\u001b[0m \u001b[38;5;28mself\u001b[39m\u001b[38;5;241m.\u001b[39m__prod_op \u001b[38;5;241m=\u001b[39m \u001b[43mProductSpaceOperator\u001b[49m\u001b[43m(\u001b[49m\u001b[43m[\u001b[49m\u001b[43m[\u001b[49m\u001b[43mop\u001b[49m\u001b[43m]\u001b[49m\u001b[43m \u001b[49m\u001b[38;5;28;43;01mfor\u001b[39;49;00m\u001b[43m \u001b[49m\u001b[43mop\u001b[49m\u001b[43m \u001b[49m\u001b[38;5;129;43;01min\u001b[39;49;00m\u001b[43m \u001b[49m\u001b[43moperators\u001b[49m\u001b[43m]\u001b[49m\u001b[43m)\u001b[49m\n\u001b[1;32m    778\u001b[0m \u001b[38;5;28msuper\u001b[39m(BroadcastOperator, \u001b[38;5;28mself\u001b[39m)\u001b[38;5;241m.\u001b[39m\u001b[38;5;21m__init__\u001b[39m(\n\u001b[1;32m    779\u001b[0m     \u001b[38;5;28mself\u001b[39m\u001b[38;5;241m.\u001b[39mprod_op\u001b[38;5;241m.\u001b[39mdomain[\u001b[38;5;241m0\u001b[39m], \u001b[38;5;28mself\u001b[39m\u001b[38;5;241m.\u001b[39mprod_op\u001b[38;5;241m.\u001b[39mrange,\n\u001b[1;32m    780\u001b[0m     linear\u001b[38;5;241m=\u001b[39m\u001b[38;5;28mself\u001b[39m\u001b[38;5;241m.\u001b[39mprod_op\u001b[38;5;241m.\u001b[39mis_linear)\n",
      "File \u001b[0;32m~/miniconda3/envs/illpropinverse/lib/python3.11/site-packages/odl/operator/pspace_ops.py:176\u001b[0m, in \u001b[0;36mProductSpaceOperator.__init__\u001b[0;34m(self, operators, domain, range)\u001b[0m\n\u001b[1;32m    174\u001b[0m     \u001b[38;5;28mself\u001b[39m\u001b[38;5;241m.\u001b[39m__ops \u001b[38;5;241m=\u001b[39m operators\n\u001b[1;32m    175\u001b[0m \u001b[38;5;28;01melse\u001b[39;00m:\n\u001b[0;32m--> 176\u001b[0m     \u001b[38;5;28mself\u001b[39m\u001b[38;5;241m.\u001b[39m__ops \u001b[38;5;241m=\u001b[39m \u001b[38;5;28;43mself\u001b[39;49m\u001b[38;5;241;43m.\u001b[39;49m\u001b[43m_convert_to_spmatrix\u001b[49m\u001b[43m(\u001b[49m\u001b[43moperators\u001b[49m\u001b[43m)\u001b[49m\n\u001b[1;32m    178\u001b[0m \u001b[38;5;66;03m# Set domain and range (or verify if given)\u001b[39;00m\n\u001b[1;32m    179\u001b[0m \u001b[38;5;28;01mif\u001b[39;00m domain \u001b[38;5;129;01mis\u001b[39;00m \u001b[38;5;28;01mNone\u001b[39;00m:\n",
      "File \u001b[0;32m~/miniconda3/envs/illpropinverse/lib/python3.11/site-packages/odl/operator/pspace_ops.py:282\u001b[0m, in \u001b[0;36mProductSpaceOperator._convert_to_spmatrix\u001b[0;34m(operators)\u001b[0m\n\u001b[1;32m    280\u001b[0m data_arr \u001b[38;5;241m=\u001b[39m np\u001b[38;5;241m.\u001b[39mempty(\u001b[38;5;28mlen\u001b[39m(data), dtype\u001b[38;5;241m=\u001b[39m\u001b[38;5;28mobject\u001b[39m)\n\u001b[1;32m    281\u001b[0m data_arr[:] \u001b[38;5;241m=\u001b[39m data\n\u001b[0;32m--> 282\u001b[0m \u001b[38;5;28;01mreturn\u001b[39;00m \u001b[43mscipy\u001b[49m\u001b[38;5;241;43m.\u001b[39;49m\u001b[43msparse\u001b[49m\u001b[38;5;241;43m.\u001b[39;49m\u001b[43mcoo_matrix\u001b[49m\u001b[43m(\u001b[49m\u001b[43m(\u001b[49m\u001b[43mdata_arr\u001b[49m\u001b[43m,\u001b[49m\u001b[43m \u001b[49m\u001b[43m(\u001b[49m\u001b[43mirow\u001b[49m\u001b[43m,\u001b[49m\u001b[43m \u001b[49m\u001b[43micol\u001b[49m\u001b[43m)\u001b[49m\u001b[43m)\u001b[49m\u001b[43m,\u001b[49m\n\u001b[1;32m    283\u001b[0m \u001b[43m                               \u001b[49m\u001b[43mshape\u001b[49m\u001b[38;5;241;43m=\u001b[39;49m\u001b[43m(\u001b[49m\u001b[43mnrows\u001b[49m\u001b[43m,\u001b[49m\u001b[43m \u001b[49m\u001b[43mncols\u001b[49m\u001b[43m)\u001b[49m\u001b[43m)\u001b[49m\n",
      "File \u001b[0;32m~/miniconda3/envs/illpropinverse/lib/python3.11/site-packages/scipy/sparse/_coo.py:61\u001b[0m, in \u001b[0;36m_coo_base.__init__\u001b[0;34m(self, arg1, shape, dtype, copy)\u001b[0m\n\u001b[1;32m     56\u001b[0m         idx_dtype \u001b[38;5;241m=\u001b[39m \u001b[38;5;28mself\u001b[39m\u001b[38;5;241m.\u001b[39m_get_index_dtype(coords,\n\u001b[1;32m     57\u001b[0m                                           maxval\u001b[38;5;241m=\u001b[39m\u001b[38;5;28mmax\u001b[39m(\u001b[38;5;28mself\u001b[39m\u001b[38;5;241m.\u001b[39mshape),\n\u001b[1;32m     58\u001b[0m                                           check_contents\u001b[38;5;241m=\u001b[39m\u001b[38;5;28;01mTrue\u001b[39;00m)\n\u001b[1;32m     59\u001b[0m         \u001b[38;5;28mself\u001b[39m\u001b[38;5;241m.\u001b[39mcoords \u001b[38;5;241m=\u001b[39m \u001b[38;5;28mtuple\u001b[39m(np\u001b[38;5;241m.\u001b[39marray(idx, copy\u001b[38;5;241m=\u001b[39mcopy, dtype\u001b[38;5;241m=\u001b[39midx_dtype)\n\u001b[1;32m     60\u001b[0m                              \u001b[38;5;28;01mfor\u001b[39;00m idx \u001b[38;5;129;01min\u001b[39;00m coords)\n\u001b[0;32m---> 61\u001b[0m         \u001b[38;5;28mself\u001b[39m\u001b[38;5;241m.\u001b[39mdata \u001b[38;5;241m=\u001b[39m \u001b[43mgetdata\u001b[49m\u001b[43m(\u001b[49m\u001b[43mobj\u001b[49m\u001b[43m,\u001b[49m\u001b[43m \u001b[49m\u001b[43mcopy\u001b[49m\u001b[38;5;241;43m=\u001b[39;49m\u001b[43mcopy\u001b[49m\u001b[43m,\u001b[49m\u001b[43m \u001b[49m\u001b[43mdtype\u001b[49m\u001b[38;5;241;43m=\u001b[39;49m\u001b[43mdtype\u001b[49m\u001b[43m)\u001b[49m\n\u001b[1;32m     62\u001b[0m         \u001b[38;5;28mself\u001b[39m\u001b[38;5;241m.\u001b[39mhas_canonical_format \u001b[38;5;241m=\u001b[39m \u001b[38;5;28;01mFalse\u001b[39;00m\n\u001b[1;32m     63\u001b[0m \u001b[38;5;28;01melse\u001b[39;00m:\n",
      "File \u001b[0;32m~/miniconda3/envs/illpropinverse/lib/python3.11/site-packages/scipy/sparse/_sputils.py:145\u001b[0m, in \u001b[0;36mgetdata\u001b[0;34m(obj, dtype, copy)\u001b[0m\n\u001b[1;32m    142\u001b[0m data \u001b[38;5;241m=\u001b[39m np\u001b[38;5;241m.\u001b[39marray(obj, dtype\u001b[38;5;241m=\u001b[39mdtype, copy\u001b[38;5;241m=\u001b[39mcopy)\n\u001b[1;32m    143\u001b[0m \u001b[38;5;66;03m# Defer to getdtype for checking that the dtype is OK.\u001b[39;00m\n\u001b[1;32m    144\u001b[0m \u001b[38;5;66;03m# This is called for the validation only; we don't need the return value.\u001b[39;00m\n\u001b[0;32m--> 145\u001b[0m \u001b[43mgetdtype\u001b[49m\u001b[43m(\u001b[49m\u001b[43mdata\u001b[49m\u001b[38;5;241;43m.\u001b[39;49m\u001b[43mdtype\u001b[49m\u001b[43m)\u001b[49m\n\u001b[1;32m    146\u001b[0m \u001b[38;5;28;01mreturn\u001b[39;00m data\n",
      "File \u001b[0;32m~/miniconda3/envs/illpropinverse/lib/python3.11/site-packages/scipy/sparse/_sputils.py:130\u001b[0m, in \u001b[0;36mgetdtype\u001b[0;34m(dtype, a, default)\u001b[0m\n\u001b[1;32m    128\u001b[0m     newdtype \u001b[38;5;241m=\u001b[39m np\u001b[38;5;241m.\u001b[39mdtype(dtype)\n\u001b[1;32m    129\u001b[0m     \u001b[38;5;28;01mif\u001b[39;00m newdtype \u001b[38;5;241m==\u001b[39m np\u001b[38;5;241m.\u001b[39mobject_:\n\u001b[0;32m--> 130\u001b[0m         \u001b[38;5;28;01mraise\u001b[39;00m \u001b[38;5;167;01mValueError\u001b[39;00m(\n\u001b[1;32m    131\u001b[0m             \u001b[38;5;124m\"\u001b[39m\u001b[38;5;124mobject dtype is not supported by sparse matrices\u001b[39m\u001b[38;5;124m\"\u001b[39m\n\u001b[1;32m    132\u001b[0m         )\n\u001b[1;32m    134\u001b[0m \u001b[38;5;28;01mreturn\u001b[39;00m newdtype\n",
      "\u001b[0;31mValueError\u001b[0m: object dtype is not supported by sparse matrices"
     ]
    }
   ],
   "source": [
    "\n",
    "# --- Set up the inverse problem --- #\n",
    "\n",
    "\n",
    "# Initialize gradient operator\n",
    "gradient = odl.Gradient(space)\n",
    "\n",
    "# Column vector of two operators\n",
    "op = odl.BroadcastOperator(operator, gradient)\n",
    "\n",
    "# Do not use the g functional, set it to zero.\n",
    "f = odl.solvers.ZeroFunctional(op.domain)\n",
    "\n",
    "# Create functionals for the dual variable\n",
    "\n",
    "# l2-squared data matching\n",
    "l2_norm = odl.solvers.L2NormSquared(operator.range).translated(data)\n",
    "\n",
    "# Isotropic TV-regularization i.e. the l1-norm\n",
    "l1_norm = 0.3 * odl.solvers.L1Norm(gradient.range)\n",
    "\n",
    "# Combine functionals, order must correspond to the operator K\n",
    "g = odl.solvers.SeparableSum(l2_norm, l1_norm)\n",
    "\n"
   ]
  },
  {
   "cell_type": "code",
   "execution_count": null,
   "metadata": {},
   "outputs": [],
   "source": [
    "\n",
    "# --- Select solver parameters and solve using Chambolle-Pock --- #\n",
    "\n",
    "# Optionally pass callback to the solver to display intermediate results\n",
    "callback = (odl.solvers.CallbackPrint(lambda x: fom.psnr(x, phantom)) &\n",
    "            odl.solvers.CallbackShow(clim=[0.1, 0.4]))\n",
    "\n",
    "# Choose a starting point\n",
    "x = pseudoinverse(data)\n",
    "\n",
    "# Run the algorithm\n",
    "odl.solvers.pdhg(\n",
    "    x, f, g, op, niter=1000, gamma=0.3,\n",
    "    callback=None)\n",
    "\n",
    "print('psnr = {}'.format(fom.psnr(x, phantom)))\n",
    "\n",
    "# Display images\n",
    "x.show('Shepp-Logan TV windowed', clim=[0.1, 0.4])\n"
   ]
  }
 ],
 "metadata": {
  "kernelspec": {
   "display_name": "illpropinverse",
   "language": "python",
   "name": "python3"
  },
  "language_info": {
   "codemirror_mode": {
    "name": "ipython",
    "version": 3
   },
   "file_extension": ".py",
   "mimetype": "text/x-python",
   "name": "python",
   "nbconvert_exporter": "python",
   "pygments_lexer": "ipython3",
   "version": "3.11.0"
  }
 },
 "nbformat": 4,
 "nbformat_minor": 2
}
